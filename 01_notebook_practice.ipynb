{
  "nbformat": 4,
  "nbformat_minor": 0,
  "metadata": {
    "colab": {
      "provenance": [],
      "collapsed_sections": []
    },
    "kernelspec": {
      "name": "python3",
      "display_name": "Python 3"
    },
    "language_info": {
      "name": "python"
    }
  },
  "cells": [
    {
      "cell_type": "markdown",
      "source": [
        "#My Jupyter Notebook on IBM Watson Studio"
      ],
      "metadata": {
        "id": "vrpsH_mN5IYw"
      }
    },
    {
      "cell_type": "markdown",
      "source": [
        "**Nestor Catano**<br>\n",
        "Data Scientist"
      ],
      "metadata": {
        "id": "dbINRTbx5O57"
      }
    },
    {
      "cell_type": "markdown",
      "source": [
        "*I am interested in data science because I love the idea of deducing information from any type of raw data that you can encounter; and data exists in abundance*"
      ],
      "metadata": {
        "id": "fJYsFEbe5hFJ"
      }
    },
    {
      "cell_type": "markdown",
      "source": [
        "### the code belows adds one to one and prints the result###"
      ],
      "metadata": {
        "id": "CQ4eL1Pk89Zk"
      }
    },
    {
      "cell_type": "code",
      "source": [
        "1+1"
      ],
      "metadata": {
        "colab": {
          "base_uri": "https://localhost:8080/"
        },
        "id": "zezgu23S9EZz",
        "outputId": "27fdcf26-a92e-4fdd-8f6b-5efd877c8547"
      },
      "execution_count": 5,
      "outputs": [
        {
          "output_type": "execute_result",
          "data": {
            "text/plain": [
              "2"
            ]
          },
          "metadata": {},
          "execution_count": 5
        }
      ]
    },
    {
      "cell_type": "markdown",
      "source": [
        "- this is\n",
        "- a bullet list\n",
        "- of three items\n",
        "\n",
        "1. and this is a \n",
        "2. numbered list\n",
        "3. of 3 items\n",
        "\n",
        "and this is a [link](https://sites.google.com/view/nestorcatano/homes)"
      ],
      "metadata": {
        "id": "AAuv183c90wu"
      }
    }
  ]
}