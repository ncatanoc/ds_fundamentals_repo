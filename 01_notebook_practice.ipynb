{
  "cells": [
    {
      "cell_type": "markdown",
      "metadata": {
        "id": "VYl1j_3GNwiQ"
      },
      "source": [
        "<center>\n",
        "    <img src=\"https://s3-api.us-geo.objectstorage.softlayer.net/cf-courses-data/CognitiveClass/Logos/organization_logo/organization_logo.png\" width=\"300\" alt=\"cognitiveclass.ai logo\"  />\n",
        "</center>\n"
      ]
    },
    {
      "cell_type": "markdown",
      "metadata": {
        "id": "DXo3yElBNwiT"
      },
      "source": [
        "#### Add your code below following the instructions given in the course\n"
      ]
    },
    {
      "cell_type": "markdown",
      "source": [
        "#My Jupyter Notebook on IBM Watson Studio"
      ],
      "metadata": {
        "id": "OR8SosUhN5rY"
      }
    },
    {
      "cell_type": "markdown",
      "source": [
        "**Nestor Catano**<br>\n",
        "Data Scientist"
      ],
      "metadata": {
        "id": "b94fNw-0N9nD"
      }
    },
    {
      "cell_type": "markdown",
      "source": [
        "*I am interested in data science because I love the idea of deducing information from any type of raw data that you can encounter; and data exists in abundance*"
      ],
      "metadata": {
        "id": "NXGAnmv4OEBP"
      }
    },
    {
      "cell_type": "markdown",
      "source": [
        "### the code belows adds one to one and prints the result###"
      ],
      "metadata": {
        "id": "EZ6XpO3XOJyq"
      }
    },
    {
      "cell_type": "code",
      "source": [
        "1+1"
      ],
      "metadata": {
        "colab": {
          "base_uri": "https://localhost:8080/"
        },
        "id": "MuV7QhfhOMW3",
        "outputId": "92e534ee-9bcb-4ee0-d93c-17637f26e8f8"
      },
      "execution_count": 1,
      "outputs": [
        {
          "output_type": "execute_result",
          "data": {
            "text/plain": [
              "2"
            ]
          },
          "metadata": {},
          "execution_count": 1
        }
      ]
    },
    {
      "cell_type": "markdown",
      "source": [
        "- this is\n",
        "- a bullet list\n",
        "- of three items\n",
        "\n",
        "1. and this is a \n",
        "2. numbered list\n",
        "3. of 3 items\n",
        "\n",
        "and this is a [link](https://sites.google.com/view/nestorcatano/homes)"
      ],
      "metadata": {
        "id": "gciN7KhfOjJO"
      }
    }
  ],
  "metadata": {
    "kernelspec": {
      "display_name": "Python 3",
      "language": "python",
      "name": "python3"
    },
    "language_info": {
      "codemirror_mode": {
        "name": "ipython",
        "version": 3
      },
      "file_extension": ".py",
      "mimetype": "text/x-python",
      "name": "python",
      "nbconvert_exporter": "python",
      "pygments_lexer": "ipython3",
      "version": "3.7.6"
    },
    "colab": {
      "provenance": [],
      "collapsed_sections": []
    }
  },
  "nbformat": 4,
  "nbformat_minor": 0
}